{
  "nbformat": 4,
  "nbformat_minor": 0,
  "metadata": {
    "colab": {
      "provenance": []
    },
    "kernelspec": {
      "name": "python3",
      "display_name": "Python 3"
    },
    "language_info": {
      "name": "python"
    }
  },
  "cells": [
    {
      "cell_type": "markdown",
      "source": [
        "Step 1: Import Packages"
      ],
      "metadata": {
        "id": "hkkSh6_ehfQ6"
      }
    },
    {
      "cell_type": "code",
      "execution_count": 5,
      "metadata": {
        "id": "YUQzbfNngYIX"
      },
      "outputs": [],
      "source": [
        "import pandas as pd\n",
        "from google.colab import drive\n",
        "import matplotlib.pyplot as plt"
      ]
    },
    {
      "cell_type": "markdown",
      "source": [
        "Step 2: Connect to Google Drive"
      ],
      "metadata": {
        "id": "adG9QxilhmIL"
      }
    },
    {
      "cell_type": "code",
      "source": [
        "drive.mount('/content/gdrive/',force_remount = True)"
      ],
      "metadata": {
        "colab": {
          "base_uri": "https://localhost:8080/"
        },
        "id": "K7khj13_gw2B",
        "outputId": "e985c8ed-573e-43a1-acb3-5314b1cbba70"
      },
      "execution_count": 3,
      "outputs": [
        {
          "output_type": "stream",
          "name": "stdout",
          "text": [
            "Mounted at /content/gdrive/\n"
          ]
        }
      ]
    },
    {
      "cell_type": "markdown",
      "source": [
        "Step 3: Read File"
      ],
      "metadata": {
        "id": "KZ81djxxhpbJ"
      }
    },
    {
      "cell_type": "code",
      "source": [
        "df = pd.read_csv('/content/gdrive/MyDrive/Colab Notebooks/data3.csv')"
      ],
      "metadata": {
        "id": "pf2cCjxGhBNA"
      },
      "execution_count": 4,
      "outputs": []
    },
    {
      "cell_type": "markdown",
      "source": [
        "Step 4: Data Cleaning and Viz"
      ],
      "metadata": {
        "id": "OyjWuOvDifh8"
      }
    },
    {
      "cell_type": "code",
      "source": [
        "df.head()"
      ],
      "metadata": {
        "colab": {
          "base_uri": "https://localhost:8080/",
          "height": 270
        },
        "id": "3qMv2BsFieti",
        "outputId": "0efd0879-0f3d-4c3d-bdc6-1262f535a548"
      },
      "execution_count": 6,
      "outputs": [
        {
          "output_type": "execute_result",
          "data": {
            "text/plain": [
              "   main_account_sanction_loan  asset_cost  Driving_flag  credit_score  \\\n",
              "0                       30838      105200             0           749   \n",
              "1                      374641       58085             0           588   \n",
              "2                        9910       65560             0           738   \n",
              "3                       53000       65090             0           774   \n",
              "4                     1826104       67343             0           636   \n",
              "\n",
              "   main_account_monthly_payment  last_six_month_defaulted_no  average_age  \\\n",
              "0                             0                            0            1   \n",
              "1                          9823                            0           14   \n",
              "2                          1751                            0            3   \n",
              "3                          3320                            0           13   \n",
              "4                          9646                            1           12   \n",
              "\n",
              "   credit_history  enquirie_no  loan_default  loan_to_asset_ratio  \\\n",
              "0              30            0             0             0.553793   \n",
              "1              36            0             0             0.874632   \n",
              "2               3            1             0             0.747453   \n",
              "3              13            0             0             0.748855   \n",
              "4              25            0             0             0.839003   \n",
              "\n",
              "   total_outstanding_loan  total_monthly_payment  main_account_tenure  \\\n",
              "0                   16582                      0                30838   \n",
              "1                  375168                   9823                   38   \n",
              "2                    5080                   1751                    5   \n",
              "3                    4700                   3320                   15   \n",
              "4                 1359538                   9646                  190   \n",
              "\n",
              "   Credit_level  employment_type  age  \n",
              "0            11                0   25  \n",
              "1             5                1   26  \n",
              "2            11                0   22  \n",
              "3            12                0   37  \n",
              "4             7                0   47  "
            ],
            "text/html": [
              "\n",
              "  <div id=\"df-c52e9d17-b8b2-4ae1-9935-4dcceb78d984\">\n",
              "    <div class=\"colab-df-container\">\n",
              "      <div>\n",
              "<style scoped>\n",
              "    .dataframe tbody tr th:only-of-type {\n",
              "        vertical-align: middle;\n",
              "    }\n",
              "\n",
              "    .dataframe tbody tr th {\n",
              "        vertical-align: top;\n",
              "    }\n",
              "\n",
              "    .dataframe thead th {\n",
              "        text-align: right;\n",
              "    }\n",
              "</style>\n",
              "<table border=\"1\" class=\"dataframe\">\n",
              "  <thead>\n",
              "    <tr style=\"text-align: right;\">\n",
              "      <th></th>\n",
              "      <th>main_account_sanction_loan</th>\n",
              "      <th>asset_cost</th>\n",
              "      <th>Driving_flag</th>\n",
              "      <th>credit_score</th>\n",
              "      <th>main_account_monthly_payment</th>\n",
              "      <th>last_six_month_defaulted_no</th>\n",
              "      <th>average_age</th>\n",
              "      <th>credit_history</th>\n",
              "      <th>enquirie_no</th>\n",
              "      <th>loan_default</th>\n",
              "      <th>loan_to_asset_ratio</th>\n",
              "      <th>total_outstanding_loan</th>\n",
              "      <th>total_monthly_payment</th>\n",
              "      <th>main_account_tenure</th>\n",
              "      <th>Credit_level</th>\n",
              "      <th>employment_type</th>\n",
              "      <th>age</th>\n",
              "    </tr>\n",
              "  </thead>\n",
              "  <tbody>\n",
              "    <tr>\n",
              "      <th>0</th>\n",
              "      <td>30838</td>\n",
              "      <td>105200</td>\n",
              "      <td>0</td>\n",
              "      <td>749</td>\n",
              "      <td>0</td>\n",
              "      <td>0</td>\n",
              "      <td>1</td>\n",
              "      <td>30</td>\n",
              "      <td>0</td>\n",
              "      <td>0</td>\n",
              "      <td>0.553793</td>\n",
              "      <td>16582</td>\n",
              "      <td>0</td>\n",
              "      <td>30838</td>\n",
              "      <td>11</td>\n",
              "      <td>0</td>\n",
              "      <td>25</td>\n",
              "    </tr>\n",
              "    <tr>\n",
              "      <th>1</th>\n",
              "      <td>374641</td>\n",
              "      <td>58085</td>\n",
              "      <td>0</td>\n",
              "      <td>588</td>\n",
              "      <td>9823</td>\n",
              "      <td>0</td>\n",
              "      <td>14</td>\n",
              "      <td>36</td>\n",
              "      <td>0</td>\n",
              "      <td>0</td>\n",
              "      <td>0.874632</td>\n",
              "      <td>375168</td>\n",
              "      <td>9823</td>\n",
              "      <td>38</td>\n",
              "      <td>5</td>\n",
              "      <td>1</td>\n",
              "      <td>26</td>\n",
              "    </tr>\n",
              "    <tr>\n",
              "      <th>2</th>\n",
              "      <td>9910</td>\n",
              "      <td>65560</td>\n",
              "      <td>0</td>\n",
              "      <td>738</td>\n",
              "      <td>1751</td>\n",
              "      <td>0</td>\n",
              "      <td>3</td>\n",
              "      <td>3</td>\n",
              "      <td>1</td>\n",
              "      <td>0</td>\n",
              "      <td>0.747453</td>\n",
              "      <td>5080</td>\n",
              "      <td>1751</td>\n",
              "      <td>5</td>\n",
              "      <td>11</td>\n",
              "      <td>0</td>\n",
              "      <td>22</td>\n",
              "    </tr>\n",
              "    <tr>\n",
              "      <th>3</th>\n",
              "      <td>53000</td>\n",
              "      <td>65090</td>\n",
              "      <td>0</td>\n",
              "      <td>774</td>\n",
              "      <td>3320</td>\n",
              "      <td>0</td>\n",
              "      <td>13</td>\n",
              "      <td>13</td>\n",
              "      <td>0</td>\n",
              "      <td>0</td>\n",
              "      <td>0.748855</td>\n",
              "      <td>4700</td>\n",
              "      <td>3320</td>\n",
              "      <td>15</td>\n",
              "      <td>12</td>\n",
              "      <td>0</td>\n",
              "      <td>37</td>\n",
              "    </tr>\n",
              "    <tr>\n",
              "      <th>4</th>\n",
              "      <td>1826104</td>\n",
              "      <td>67343</td>\n",
              "      <td>0</td>\n",
              "      <td>636</td>\n",
              "      <td>9646</td>\n",
              "      <td>1</td>\n",
              "      <td>12</td>\n",
              "      <td>25</td>\n",
              "      <td>0</td>\n",
              "      <td>0</td>\n",
              "      <td>0.839003</td>\n",
              "      <td>1359538</td>\n",
              "      <td>9646</td>\n",
              "      <td>190</td>\n",
              "      <td>7</td>\n",
              "      <td>0</td>\n",
              "      <td>47</td>\n",
              "    </tr>\n",
              "  </tbody>\n",
              "</table>\n",
              "</div>\n",
              "      <button class=\"colab-df-convert\" onclick=\"convertToInteractive('df-c52e9d17-b8b2-4ae1-9935-4dcceb78d984')\"\n",
              "              title=\"Convert this dataframe to an interactive table.\"\n",
              "              style=\"display:none;\">\n",
              "        \n",
              "  <svg xmlns=\"http://www.w3.org/2000/svg\" height=\"24px\"viewBox=\"0 0 24 24\"\n",
              "       width=\"24px\">\n",
              "    <path d=\"M0 0h24v24H0V0z\" fill=\"none\"/>\n",
              "    <path d=\"M18.56 5.44l.94 2.06.94-2.06 2.06-.94-2.06-.94-.94-2.06-.94 2.06-2.06.94zm-11 1L8.5 8.5l.94-2.06 2.06-.94-2.06-.94L8.5 2.5l-.94 2.06-2.06.94zm10 10l.94 2.06.94-2.06 2.06-.94-2.06-.94-.94-2.06-.94 2.06-2.06.94z\"/><path d=\"M17.41 7.96l-1.37-1.37c-.4-.4-.92-.59-1.43-.59-.52 0-1.04.2-1.43.59L10.3 9.45l-7.72 7.72c-.78.78-.78 2.05 0 2.83L4 21.41c.39.39.9.59 1.41.59.51 0 1.02-.2 1.41-.59l7.78-7.78 2.81-2.81c.8-.78.8-2.07 0-2.86zM5.41 20L4 18.59l7.72-7.72 1.47 1.35L5.41 20z\"/>\n",
              "  </svg>\n",
              "      </button>\n",
              "      \n",
              "  <style>\n",
              "    .colab-df-container {\n",
              "      display:flex;\n",
              "      flex-wrap:wrap;\n",
              "      gap: 12px;\n",
              "    }\n",
              "\n",
              "    .colab-df-convert {\n",
              "      background-color: #E8F0FE;\n",
              "      border: none;\n",
              "      border-radius: 50%;\n",
              "      cursor: pointer;\n",
              "      display: none;\n",
              "      fill: #1967D2;\n",
              "      height: 32px;\n",
              "      padding: 0 0 0 0;\n",
              "      width: 32px;\n",
              "    }\n",
              "\n",
              "    .colab-df-convert:hover {\n",
              "      background-color: #E2EBFA;\n",
              "      box-shadow: 0px 1px 2px rgba(60, 64, 67, 0.3), 0px 1px 3px 1px rgba(60, 64, 67, 0.15);\n",
              "      fill: #174EA6;\n",
              "    }\n",
              "\n",
              "    [theme=dark] .colab-df-convert {\n",
              "      background-color: #3B4455;\n",
              "      fill: #D2E3FC;\n",
              "    }\n",
              "\n",
              "    [theme=dark] .colab-df-convert:hover {\n",
              "      background-color: #434B5C;\n",
              "      box-shadow: 0px 1px 3px 1px rgba(0, 0, 0, 0.15);\n",
              "      filter: drop-shadow(0px 1px 2px rgba(0, 0, 0, 0.3));\n",
              "      fill: #FFFFFF;\n",
              "    }\n",
              "  </style>\n",
              "\n",
              "      <script>\n",
              "        const buttonEl =\n",
              "          document.querySelector('#df-c52e9d17-b8b2-4ae1-9935-4dcceb78d984 button.colab-df-convert');\n",
              "        buttonEl.style.display =\n",
              "          google.colab.kernel.accessAllowed ? 'block' : 'none';\n",
              "\n",
              "        async function convertToInteractive(key) {\n",
              "          const element = document.querySelector('#df-c52e9d17-b8b2-4ae1-9935-4dcceb78d984');\n",
              "          const dataTable =\n",
              "            await google.colab.kernel.invokeFunction('convertToInteractive',\n",
              "                                                     [key], {});\n",
              "          if (!dataTable) return;\n",
              "\n",
              "          const docLinkHtml = 'Like what you see? Visit the ' +\n",
              "            '<a target=\"_blank\" href=https://colab.research.google.com/notebooks/data_table.ipynb>data table notebook</a>'\n",
              "            + ' to learn more about interactive tables.';\n",
              "          element.innerHTML = '';\n",
              "          dataTable['output_type'] = 'display_data';\n",
              "          await google.colab.output.renderOutput(dataTable, element);\n",
              "          const docLink = document.createElement('div');\n",
              "          docLink.innerHTML = docLinkHtml;\n",
              "          element.appendChild(docLink);\n",
              "        }\n",
              "      </script>\n",
              "    </div>\n",
              "  </div>\n",
              "  "
            ]
          },
          "metadata": {},
          "execution_count": 6
        }
      ]
    },
    {
      "cell_type": "code",
      "source": [
        "plt.hist(df[\"age\"])\n",
        "plt.xlabel(\"Age\")\n",
        "plt.ylabel(\"Frequency\")\n",
        "plt.title(\"Age Distribution of Loan Applicants\")\n",
        "plt.show()"
      ],
      "metadata": {
        "colab": {
          "base_uri": "https://localhost:8080/",
          "height": 295
        },
        "id": "2uF74i2Lixzx",
        "outputId": "8fff087e-5008-46ce-a2cf-2e3a40bd1b70"
      },
      "execution_count": 8,
      "outputs": [
        {
          "output_type": "display_data",
          "data": {
            "text/plain": [
              "<Figure size 432x288 with 1 Axes>"
            ],
            "image/png": "[encoded data removed]"
          },
          "metadata": {
            "needs_background": "light"
          }
        }
      ]
    },
    {
      "cell_type": "markdown",
      "source": [
        "Most applicants lie between the age group 25-35 years."
      ],
      "metadata": {
        "id": "KkwuX0FvjXfO"
      }
    },
    {
      "cell_type": "code",
      "source": [],
      "metadata": {
        "id": "_c50VDfwjNll"
      },
      "execution_count": null,
      "outputs": []
    }
  ]
}
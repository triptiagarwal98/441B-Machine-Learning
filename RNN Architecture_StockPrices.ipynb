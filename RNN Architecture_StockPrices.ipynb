{
 "cells": [
  {
   "cell_type": "markdown",
   "metadata": {
    "id": "Z9sYcDE-qV7z"
   },
   "source": [
    "# Building and Tuning an RNN Model with LSTM to predict if stock price moves up or down the following trading day"
   ]
  },
  {
   "cell_type": "markdown",
   "metadata": {
    "id": "6dJuZDx9qWeM"
   },
   "source": [
    "## 1.) Importing asset price from Yahoo Finance"
   ]
  },
  {
   "cell_type": "code",
   "execution_count": 1,
   "metadata": {},
   "outputs": [],
   "source": [
    "import yfinance as yf\n",
    "import numpy as np\n",
    "import pandas as pd\n",
    "from sklearn.preprocessing import MinMaxScaler\n",
    "from tensorflow.keras.models import Sequential\n",
    "from tensorflow.keras.layers import Dense, LSTM, Dropout"
   ]
  },
  {
   "cell_type": "code",
   "execution_count": 2,
   "metadata": {
    "colab": {
     "base_uri": "https://localhost:8080/"
    },
    "id": "Y3bcwJb4rp93",
    "outputId": "6488930e-f8a4-4ecb-a3ce-cc73d755672d"
   },
   "outputs": [
    {
     "name": "stdout",
     "output_type": "stream",
     "text": [
      "[*********************100%***********************]  1 of 1 completed\n"
     ]
    }
   ],
   "source": [
    "#picking Amazon stock\n",
    "#time period: post 2010\n",
    "stock_data = yf.download(\"AMZN\", start=\"2010-01-01\", end=\"2022-12-31\")\n",
    "\n",
    "# Preprocess data\n",
    "# scaling using pct_change as it is time series data\n",
    "scaled_data = np.array(stock_data[\"Close\"].pct_change().dropna()).reshape(-1,1)   #reshape(-1,1) means 1 col,u figure out rows\n",
    "\n",
    "# Split data into training and test sets\n",
    "training_data_len = int(len(scaled_data) * 0.8)\n",
    "train_data = scaled_data[0:training_data_len, :]\n",
    "\n"
   ]
  },
  {
   "cell_type": "code",
   "execution_count": 3,
   "metadata": {},
   "outputs": [
    {
     "data": {
      "text/html": [
       "<div>\n",
       "<style scoped>\n",
       "    .dataframe tbody tr th:only-of-type {\n",
       "        vertical-align: middle;\n",
       "    }\n",
       "\n",
       "    .dataframe tbody tr th {\n",
       "        vertical-align: top;\n",
       "    }\n",
       "\n",
       "    .dataframe thead th {\n",
       "        text-align: right;\n",
       "    }\n",
       "</style>\n",
       "<table border=\"1\" class=\"dataframe\">\n",
       "  <thead>\n",
       "    <tr style=\"text-align: right;\">\n",
       "      <th></th>\n",
       "      <th>Open</th>\n",
       "      <th>High</th>\n",
       "      <th>Low</th>\n",
       "      <th>Close</th>\n",
       "      <th>Adj Close</th>\n",
       "      <th>Volume</th>\n",
       "    </tr>\n",
       "    <tr>\n",
       "      <th>Date</th>\n",
       "      <th></th>\n",
       "      <th></th>\n",
       "      <th></th>\n",
       "      <th></th>\n",
       "      <th></th>\n",
       "      <th></th>\n",
       "    </tr>\n",
       "  </thead>\n",
       "  <tbody>\n",
       "    <tr>\n",
       "      <th>2010-01-04 00:00:00-05:00</th>\n",
       "      <td>6.812500</td>\n",
       "      <td>6.830500</td>\n",
       "      <td>6.657000</td>\n",
       "      <td>6.695000</td>\n",
       "      <td>6.695000</td>\n",
       "      <td>151998000</td>\n",
       "    </tr>\n",
       "    <tr>\n",
       "      <th>2010-01-05 00:00:00-05:00</th>\n",
       "      <td>6.671500</td>\n",
       "      <td>6.774000</td>\n",
       "      <td>6.590500</td>\n",
       "      <td>6.734500</td>\n",
       "      <td>6.734500</td>\n",
       "      <td>177038000</td>\n",
       "    </tr>\n",
       "    <tr>\n",
       "      <th>2010-01-06 00:00:00-05:00</th>\n",
       "      <td>6.730000</td>\n",
       "      <td>6.736500</td>\n",
       "      <td>6.582500</td>\n",
       "      <td>6.612500</td>\n",
       "      <td>6.612500</td>\n",
       "      <td>143576000</td>\n",
       "    </tr>\n",
       "    <tr>\n",
       "      <th>2010-01-07 00:00:00-05:00</th>\n",
       "      <td>6.600500</td>\n",
       "      <td>6.616000</td>\n",
       "      <td>6.440000</td>\n",
       "      <td>6.500000</td>\n",
       "      <td>6.500000</td>\n",
       "      <td>220604000</td>\n",
       "    </tr>\n",
       "    <tr>\n",
       "      <th>2010-01-08 00:00:00-05:00</th>\n",
       "      <td>6.528000</td>\n",
       "      <td>6.684000</td>\n",
       "      <td>6.451500</td>\n",
       "      <td>6.676000</td>\n",
       "      <td>6.676000</td>\n",
       "      <td>196610000</td>\n",
       "    </tr>\n",
       "    <tr>\n",
       "      <th>...</th>\n",
       "      <td>...</td>\n",
       "      <td>...</td>\n",
       "      <td>...</td>\n",
       "      <td>...</td>\n",
       "      <td>...</td>\n",
       "      <td>...</td>\n",
       "    </tr>\n",
       "    <tr>\n",
       "      <th>2022-12-23 00:00:00-05:00</th>\n",
       "      <td>83.250000</td>\n",
       "      <td>85.779999</td>\n",
       "      <td>82.930000</td>\n",
       "      <td>85.250000</td>\n",
       "      <td>85.250000</td>\n",
       "      <td>57433700</td>\n",
       "    </tr>\n",
       "    <tr>\n",
       "      <th>2022-12-27 00:00:00-05:00</th>\n",
       "      <td>84.970001</td>\n",
       "      <td>85.349998</td>\n",
       "      <td>83.000000</td>\n",
       "      <td>83.040001</td>\n",
       "      <td>83.040001</td>\n",
       "      <td>57284000</td>\n",
       "    </tr>\n",
       "    <tr>\n",
       "      <th>2022-12-28 00:00:00-05:00</th>\n",
       "      <td>82.800003</td>\n",
       "      <td>83.480003</td>\n",
       "      <td>81.690002</td>\n",
       "      <td>81.820000</td>\n",
       "      <td>81.820000</td>\n",
       "      <td>58228600</td>\n",
       "    </tr>\n",
       "    <tr>\n",
       "      <th>2022-12-29 00:00:00-05:00</th>\n",
       "      <td>82.870003</td>\n",
       "      <td>84.550003</td>\n",
       "      <td>82.550003</td>\n",
       "      <td>84.180000</td>\n",
       "      <td>84.180000</td>\n",
       "      <td>54995900</td>\n",
       "    </tr>\n",
       "    <tr>\n",
       "      <th>2022-12-30 00:00:00-05:00</th>\n",
       "      <td>83.120003</td>\n",
       "      <td>84.050003</td>\n",
       "      <td>82.470001</td>\n",
       "      <td>84.000000</td>\n",
       "      <td>84.000000</td>\n",
       "      <td>62330000</td>\n",
       "    </tr>\n",
       "  </tbody>\n",
       "</table>\n",
       "<p>3272 rows × 6 columns</p>\n",
       "</div>"
      ],
      "text/plain": [
       "                                Open       High        Low      Close  \\\n",
       "Date                                                                    \n",
       "2010-01-04 00:00:00-05:00   6.812500   6.830500   6.657000   6.695000   \n",
       "2010-01-05 00:00:00-05:00   6.671500   6.774000   6.590500   6.734500   \n",
       "2010-01-06 00:00:00-05:00   6.730000   6.736500   6.582500   6.612500   \n",
       "2010-01-07 00:00:00-05:00   6.600500   6.616000   6.440000   6.500000   \n",
       "2010-01-08 00:00:00-05:00   6.528000   6.684000   6.451500   6.676000   \n",
       "...                              ...        ...        ...        ...   \n",
       "2022-12-23 00:00:00-05:00  83.250000  85.779999  82.930000  85.250000   \n",
       "2022-12-27 00:00:00-05:00  84.970001  85.349998  83.000000  83.040001   \n",
       "2022-12-28 00:00:00-05:00  82.800003  83.480003  81.690002  81.820000   \n",
       "2022-12-29 00:00:00-05:00  82.870003  84.550003  82.550003  84.180000   \n",
       "2022-12-30 00:00:00-05:00  83.120003  84.050003  82.470001  84.000000   \n",
       "\n",
       "                           Adj Close     Volume  \n",
       "Date                                             \n",
       "2010-01-04 00:00:00-05:00   6.695000  151998000  \n",
       "2010-01-05 00:00:00-05:00   6.734500  177038000  \n",
       "2010-01-06 00:00:00-05:00   6.612500  143576000  \n",
       "2010-01-07 00:00:00-05:00   6.500000  220604000  \n",
       "2010-01-08 00:00:00-05:00   6.676000  196610000  \n",
       "...                              ...        ...  \n",
       "2022-12-23 00:00:00-05:00  85.250000   57433700  \n",
       "2022-12-27 00:00:00-05:00  83.040001   57284000  \n",
       "2022-12-28 00:00:00-05:00  81.820000   58228600  \n",
       "2022-12-29 00:00:00-05:00  84.180000   54995900  \n",
       "2022-12-30 00:00:00-05:00  84.000000   62330000  \n",
       "\n",
       "[3272 rows x 6 columns]"
      ]
     },
     "execution_count": 3,
     "metadata": {},
     "output_type": "execute_result"
    }
   ],
   "source": [
    "stock_data"
   ]
  },
  {
   "cell_type": "markdown",
   "metadata": {
    "id": "foHoGy9hq3_o"
   },
   "source": [
    "## 2.) Creating x_train/y_train data so that the RNN uses percentage change data to make a binary forecast"
   ]
  },
  {
   "cell_type": "code",
   "execution_count": 4,
   "metadata": {},
   "outputs": [
    {
     "data": {
      "text/plain": [
       "array([[ 0.00589989],\n",
       "       [-0.01811563],\n",
       "       [-0.01701326],\n",
       "       ...,\n",
       "       [-0.00402982],\n",
       "       [-0.00616361],\n",
       "       [-0.00473604]])"
      ]
     },
     "execution_count": 4,
     "metadata": {},
     "output_type": "execute_result"
    }
   ],
   "source": [
    "train_data"
   ]
  },
  {
   "cell_type": "code",
   "execution_count": 82,
   "metadata": {},
   "outputs": [],
   "source": [
    "x_train = []\n",
    "y_train = []\n",
    "\n",
    "input_size = 5   #depicts the number of time lags   #so using a week (5 trading days)\n",
    "for i in range(input_size, len(train_data)):\n",
    "    x_train.append(train_data[i-input_size:i, 0])\n",
    "    y_train.append(np.where(train_data[i, 0] > 0, 1,0))\n",
    "\n",
    "\n",
    "x_train, y_train = np.array(x_train), np.array(y_train)\n",
    "#reshaping input because RNN model needs 3rd dimension too (input_dim)\n",
    "x_train = np.reshape(x_train, (x_train.shape[0], x_train.shape[1], 1))    #3rd dimension is 1 since univariate TS\n",
    "#shape is -- num_samples, input_size, input_dim"
   ]
  },
  {
   "cell_type": "code",
   "execution_count": 252,
   "metadata": {},
   "outputs": [
    {
     "data": {
      "text/plain": [
       "1    1390\n",
       "0    1221\n",
       "dtype: int64"
      ]
     },
     "execution_count": 252,
     "metadata": {},
     "output_type": "execute_result"
    }
   ],
   "source": [
    "pd.Series(y_train).value_counts()   #shows that the output data is almost balanced"
   ]
  },
  {
   "cell_type": "markdown",
   "metadata": {},
   "source": [
    "## Building an RNN Architecture"
   ]
  },
  {
   "cell_type": "code",
   "execution_count": 158,
   "metadata": {},
   "outputs": [
    {
     "name": "stdout",
     "output_type": "stream",
     "text": [
      "Epoch 1/15\n",
      "82/82 [==============================] - 5s 7ms/step - loss: 0.6918 - accuracy: 0.5205\n",
      "Epoch 2/15\n",
      "82/82 [==============================] - 1s 7ms/step - loss: 0.6915 - accuracy: 0.5324\n",
      "Epoch 3/15\n",
      "82/82 [==============================] - 1s 7ms/step - loss: 0.6915 - accuracy: 0.5324\n",
      "Epoch 4/15\n",
      "82/82 [==============================] - 1s 7ms/step - loss: 0.6915 - accuracy: 0.5324\n",
      "Epoch 5/15\n",
      "82/82 [==============================] - 1s 7ms/step - loss: 0.6913 - accuracy: 0.5324\n",
      "Epoch 6/15\n",
      "82/82 [==============================] - 1s 7ms/step - loss: 0.6913 - accuracy: 0.5324\n",
      "Epoch 7/15\n",
      "82/82 [==============================] - 1s 7ms/step - loss: 0.6915 - accuracy: 0.5324\n",
      "Epoch 8/15\n",
      "82/82 [==============================] - 1s 7ms/step - loss: 0.6914 - accuracy: 0.5324\n",
      "Epoch 9/15\n",
      "82/82 [==============================] - 1s 7ms/step - loss: 0.6914 - accuracy: 0.5324\n",
      "Epoch 10/15\n",
      "82/82 [==============================] - 1s 7ms/step - loss: 0.6913 - accuracy: 0.5324\n",
      "Epoch 11/15\n",
      "82/82 [==============================] - 1s 7ms/step - loss: 0.6912 - accuracy: 0.5324\n",
      "Epoch 12/15\n",
      "82/82 [==============================] - 1s 7ms/step - loss: 0.6918 - accuracy: 0.5324\n",
      "Epoch 13/15\n",
      "82/82 [==============================] - 1s 7ms/step - loss: 0.6911 - accuracy: 0.5324\n",
      "Epoch 14/15\n",
      "82/82 [==============================] - 1s 7ms/step - loss: 0.6911 - accuracy: 0.5324\n",
      "Epoch 15/15\n",
      "82/82 [==============================] - 1s 7ms/step - loss: 0.6912 - accuracy: 0.5324\n"
     ]
    },
    {
     "data": {
      "text/plain": [
       "<keras.callbacks.History at 0x1d3fc6a7d30>"
      ]
     },
     "execution_count": 158,
     "metadata": {},
     "output_type": "execute_result"
    }
   ],
   "source": [
    "model = Sequential()\n",
    "\n",
    "#adding LSTM layer\n",
    "model.add(LSTM(50, return_sequences=False, input_shape=(x_train.shape[1], 1)))\n",
    "#LSTM(no.of neurons--hyperparameter-to be tuned, useful to stack multiple lstm layers, (no.of time steps, no.of features))\n",
    "\n",
    "#adding another LSTM layer\n",
    "#model.add(LSTM(150, return_sequences=False))\n",
    "\n",
    "model.add(Dense(25))\n",
    "#model.add(Dropout(0.3))   #to prevent overfitting\n",
    "model.add(Dense(1, activation='sigmoid'))       #output   \n",
    "\n",
    "model.compile(optimizer='adam', loss='binary_crossentropy', metrics = ['accuracy'])   \n",
    "#adam implies adaptive learning rates\n",
    "\n",
    "model.fit(x_train, y_train, epochs=15)    "
   ]
  },
  {
   "cell_type": "code",
   "execution_count": 159,
   "metadata": {},
   "outputs": [
    {
     "name": "stdout",
     "output_type": "stream",
     "text": [
      "82/82 [==============================] - 1s 4ms/step\n"
     ]
    }
   ],
   "source": [
    "predictions = model.predict(x_train)"
   ]
  },
  {
   "cell_type": "code",
   "execution_count": 165,
   "metadata": {},
   "outputs": [
    {
     "data": {
      "text/plain": [
       "array([[0.53033024],\n",
       "       [0.53118724],\n",
       "       [0.52905756],\n",
       "       ...,\n",
       "       [0.5299061 ],\n",
       "       [0.5297766 ],\n",
       "       [0.52986085]], dtype=float32)"
      ]
     },
     "execution_count": 165,
     "metadata": {},
     "output_type": "execute_result"
    }
   ],
   "source": [
    "predictions"
   ]
  },
  {
   "cell_type": "code",
   "execution_count": 164,
   "metadata": {},
   "outputs": [],
   "source": [
    "#converting the output to binary to see if stock goes up or down the next day\n",
    "y_pred_binary = (predictions > 0.5).astype(int)"
   ]
  },
  {
   "cell_type": "code",
   "execution_count": 167,
   "metadata": {},
   "outputs": [
    {
     "data": {
      "text/plain": [
       "array([0, 1])"
      ]
     },
     "execution_count": 167,
     "metadata": {},
     "output_type": "execute_result"
    }
   ],
   "source": [
    "np.unique(y_pred_binary)"
   ]
  },
  {
   "cell_type": "markdown",
   "metadata": {},
   "source": [
    "Shows that the output has binary outcomes!"
   ]
  },
  {
   "cell_type": "markdown",
   "metadata": {
    "id": "yFhO9vMjsWPk"
   },
   "source": [
    "## 3.) Testing the model: Comparing insample Accurracy, insample random walk assumption Accuracy, Out of sample Accuracy and out of sample random walk assumption Accuracy"
   ]
  },
  {
   "cell_type": "code",
   "execution_count": 176,
   "metadata": {},
   "outputs": [],
   "source": [
    "test_data = scaled_data[training_data_len - input_size:, :]"
   ]
  },
  {
   "cell_type": "code",
   "execution_count": 177,
   "metadata": {},
   "outputs": [],
   "source": [
    "x_test = []\n",
    "y_test = []\n",
    "\n",
    "for i in range(input_size, len(test_data)):\n",
    "    x_test.append(test_data[i-input_size:i, 0])\n",
    "    y_test.append(np.where(test_data[i, 0] > 0, 1,0))\n",
    "\n",
    "x_test, y_test = np.array(x_test), np.array(y_test)\n",
    "x_test = np.reshape(x_test, (x_test.shape[0], x_test.shape[1], 1))    #3rd dimension is 1 since univariate TS\n",
    "#shape is -- num_samples, input_size, input_dim"
   ]
  },
  {
   "cell_type": "code",
   "execution_count": 179,
   "metadata": {},
   "outputs": [],
   "source": [
    "from sklearn.metrics import accuracy_score"
   ]
  },
  {
   "cell_type": "code",
   "execution_count": 260,
   "metadata": {},
   "outputs": [
    {
     "name": "stdout",
     "output_type": "stream",
     "text": [
      "82/82 [==============================] - 0s 3ms/step\n",
      "The in sample model accuracy is: 0.46763692072003066\n",
      "The in sample random walk model accuracy is: 0.4957854406130268\n"
     ]
    }
   ],
   "source": [
    "#in sample accuracy\n",
    "predictions = model.predict(x_train)\n",
    "y_pred_binary = (predictions > 0.588).astype(int)\n",
    "insample_acc = accuracy_score(y_train, y_pred_binary)\n",
    "\n",
    "#in sample random walk accuracy\n",
    "#y_train[:-1]   #actual\n",
    "#y_train[1:]    #predicted\n",
    "insample_rand_acc = accuracy_score(y_train[:-1], y_train[1:])\n",
    "print(\"The in sample model accuracy is:\", insample_acc)\n",
    "print(\"The in sample random walk model accuracy is:\", insample_rand_acc)"
   ]
  },
  {
   "cell_type": "code",
   "execution_count": 259,
   "metadata": {},
   "outputs": [
    {
     "name": "stdout",
     "output_type": "stream",
     "text": [
      "21/21 [==============================] - 0s 3ms/step\n",
      "The out of sample model accuracy is: 0.49770992366412214\n",
      "The out of sample random walk model accuracy is: 0.5198776758409785\n"
     ]
    }
   ],
   "source": [
    "#out sample accuracy\n",
    "oos_predictions = model.predict(x_test)\n",
    "oos_y_pred_binary = (oos_predictions > 0.588).astype(int)\n",
    "outsample_acc = accuracy_score(y_test, oos_y_pred_binary)\n",
    "\n",
    "#out sample random walk accuracy\n",
    "#y_test[:-1]   #actual\n",
    "#y_test[1:]    #predicted\n",
    "outsample_rand_acc = accuracy_score(y_test[:-1], y_test[1:])\n",
    "\n",
    "print(\"The out of sample model accuracy is:\", outsample_acc)\n",
    "print(\"The out of sample random walk model accuracy is:\", outsample_rand_acc)"
   ]
  },
  {
   "cell_type": "code",
   "execution_count": 261,
   "metadata": {},
   "outputs": [],
   "source": [
    "data = {'In_Acc':insample_acc, 'In_RW_Acc':insample_rand_acc, 'Out_Acc':outsample_acc, 'Out_RW_Acc':outsample_rand_acc}\n",
    "metrics = list(data.keys())\n",
    "values = list(data.values())"
   ]
  },
  {
   "cell_type": "code",
   "execution_count": 263,
   "metadata": {},
   "outputs": [
    {
     "data": {
      "application/javascript": [
       "\n",
       "        if (window._pyforest_update_imports_cell) { window._pyforest_update_imports_cell('import matplotlib.pyplot as plt'); }\n",
       "    "
      ],
      "text/plain": [
       "<IPython.core.display.Javascript object>"
      ]
     },
     "metadata": {},
     "output_type": "display_data"
    },
    {
     "data": {
      "application/javascript": [
       "\n",
       "        if (window._pyforest_update_imports_cell) { window._pyforest_update_imports_cell('import matplotlib.pyplot as plt'); }\n",
       "    "
      ],
      "text/plain": [
       "<IPython.core.display.Javascript object>"
      ]
     },
     "metadata": {},
     "output_type": "display_data"
    },
    {
     "data": {
      "application/javascript": [
       "\n",
       "        if (window._pyforest_update_imports_cell) { window._pyforest_update_imports_cell('import matplotlib.pyplot as plt'); }\n",
       "    "
      ],
      "text/plain": [
       "<IPython.core.display.Javascript object>"
      ]
     },
     "metadata": {},
     "output_type": "display_data"
    },
    {
     "data": {
      "application/javascript": [
       "\n",
       "        if (window._pyforest_update_imports_cell) { window._pyforest_update_imports_cell('import matplotlib.pyplot as plt'); }\n",
       "    "
      ],
      "text/plain": [
       "<IPython.core.display.Javascript object>"
      ]
     },
     "metadata": {},
     "output_type": "display_data"
    },
    {
     "data": {
      "image/png": "[encoded data removed]",
      "text/plain": [
       "<Figure size 500x300 with 1 Axes>"
      ]
     },
     "metadata": {},
     "output_type": "display_data"
    }
   ],
   "source": [
    "plt.figure(figsize = (5, 3))\n",
    "plt.bar(metrics, values, width = 0.3)\n",
    "plt.ylim(0,0.6)\n",
    "plt.show()"
   ]
  },
  {
   "cell_type": "markdown",
   "metadata": {
    "id": "bK_jyyEEtTUB"
   },
   "source": [
    "## Observation:"
   ]
  },
  {
   "cell_type": "markdown",
   "metadata": {
    "id": "FlD_yx0cshJ7"
   },
   "source": [
    "- We find that both in case of training and testing data, the RNN model could not perform better than the Random Walk model which assumes that the best prediction is the previous observed value.\n",
    "- A surprising result though, is the improved accuracy of the model on testing data compared to training data - this is not common. However, this is no indication of a great model as the classifications are almost random!\n"
   ]
  },
  {
   "cell_type": "markdown",
   "metadata": {
    "id": "pFtrp-lmtw6t"
   },
   "source": [
    "## 4.) Creating a parameter for number of lags in the input layer. Running a 3-fold CV to test three different time lags of previous price data to forecast"
   ]
  },
  {
   "cell_type": "code",
   "execution_count": 187,
   "metadata": {},
   "outputs": [],
   "source": [
    "import warnings\n",
    "warnings.filterwarnings(\"ignore\")"
   ]
  },
  {
   "cell_type": "code",
   "execution_count": 243,
   "metadata": {},
   "outputs": [],
   "source": [
    "from sklearn.model_selection import GridSearchCV\n",
    "from keras.wrappers.scikit_learn import KerasClassifier\n",
    "from keras.wrappers.scikit_learn import KerasRegressor"
   ]
  },
  {
   "cell_type": "code",
   "execution_count": null,
   "metadata": {},
   "outputs": [],
   "source": [
    "#globally changing my training sets"
   ]
  },
  {
   "cell_type": "code",
   "execution_count": 241,
   "metadata": {},
   "outputs": [
    {
     "name": "stdout",
     "output_type": "stream",
     "text": [
      "Best accuracy: 0.532144 using {'batch_size': 10, 'epochs': 5, 'input_size': 3} from original training data\n"
     ]
    }
   ],
   "source": [
    "def create_model(input_size=4):\n",
    "    # Update training data with the best input size\n",
    "    global x_train_new\n",
    "    global y_train_new\n",
    "    \n",
    "    x_train_new = []\n",
    "    y_train_new = []\n",
    "    for i in range(input_size, len(train_data)):\n",
    "        x_train_new.append(train_data[i-input_size:i, 0])\n",
    "        y_train_new.append(np.where(train_data[i, 0] > 0, 1,0))\n",
    "\n",
    "    x_train_new, y_train_new = np.array(x_train_new), np.array(y_train_new)\n",
    "    x_train_new = np.reshape(x_train_new, (x_train_new.shape[0], x_train_new.shape[1], 1))\n",
    "    \n",
    "    model = Sequential()\n",
    "    model.add(LSTM(50, return_sequences=False, input_shape=(input_size-1, 1)))\n",
    "    model.add(Dense(1, activation='sigmoid'))\n",
    "    model.compile(loss='binary_crossentropy', optimizer='adam', metrics=['accuracy'])\n",
    "    return model\n",
    "\n",
    "# Wrap the Keras model in a scikit-learn compatible estimator\n",
    "model = KerasClassifier(build_fn=create_model, verbose=0)\n",
    "\n",
    "param_grid = {'batch_size': [10, 20, 100],\n",
    "              'epochs': [5, 10],\n",
    "              'input_size': [1,3, 5]}\n",
    "\n",
    "# Perform the grid search over the hyperparameters\n",
    "grid = GridSearchCV(estimator=model, param_grid=param_grid, n_jobs=-1, cv=3, scoring='accuracy')\n",
    "grid_result = grid.fit(x_train, y_train)\n",
    "\n",
    "print(\"Best accuracy: %f using %s from original training data\" % (grid_result.best_score_, grid_result.best_params_))"
   ]
  },
  {
   "cell_type": "markdown",
   "metadata": {},
   "source": [
    "This shows that the highest accuracy can be achieved with an input size of 3 lags, batch size of 10 samples and running the model with 5 epochs. This can be tuned further to test for higher epoch values but an accuracy of 53% is much higher than the original model. Further, accuracy may not be the best measure, we could try AUC and other metrics as well!"
   ]
  },
  {
   "cell_type": "code",
   "execution_count": 185,
   "metadata": {},
   "outputs": [],
   "source": [
    "#trial with above code +neurons"
   ]
  },
  {
   "cell_type": "code",
   "execution_count": 247,
   "metadata": {},
   "outputs": [
    {
     "name": "stdout",
     "output_type": "stream",
     "text": [
      "Best accuracy: 0.532144 using {'batch_size': 10, 'epochs': 5, 'input_size': 3, 'neurons': 10} from original training data\n"
     ]
    }
   ],
   "source": [
    "def create_model(input_size=4, neurons=30):\n",
    "    # Update training data with the best input size\n",
    "    global x_train_new\n",
    "    global y_train_new\n",
    "    \n",
    "    x_train_new = []\n",
    "    y_train_new = []\n",
    "    for i in range(input_size, len(train_data)):\n",
    "        x_train_new.append(train_data[i-input_size:i, 0])\n",
    "        y_train_new.append(np.where(train_data[i, 0] > 0, 1,0))\n",
    "\n",
    "    x_train_new, y_train_new = np.array(x_train_new), np.array(y_train_new)\n",
    "    x_train_new = np.reshape(x_train_new, (x_train_new.shape[0], x_train_new.shape[1], 1))\n",
    "    \n",
    "    model = Sequential()\n",
    "    model.add(LSTM(neurons, return_sequences=False, input_shape=(input_size-1, 1)))\n",
    "    model.add(Dense(1, activation='sigmoid'))\n",
    "    model.compile(loss='binary_crossentropy', optimizer='adam', metrics=['accuracy'])\n",
    "    return model\n",
    "\n",
    "# Wrap the Keras model in a scikit-learn compatible estimator\n",
    "model = KerasClassifier(build_fn=create_model, verbose=0)\n",
    "\n",
    "param_grid = {'batch_size': [10, 20, 100],\n",
    "              'epochs': [5, 10],\n",
    "              'input_size': [2,3, 5],\n",
    "             'neurons': [10,25,50]}\n",
    "\n",
    "# Perform the grid search over the hyperparameters\n",
    "grid = GridSearchCV(estimator=model, param_grid=param_grid, n_jobs=-1, cv=3, scoring='accuracy')\n",
    "grid_result = grid.fit(x_train, y_train)\n",
    "\n",
    "print(\"Best accuracy: %f using %s from original training data\" % (grid_result.best_score_, grid_result.best_params_))"
   ]
  },
  {
   "cell_type": "code",
   "execution_count": null,
   "metadata": {},
   "outputs": [],
   "source": []
  }
 ],
 "metadata": {
  "colab": {
   "provenance": []
  },
  "kernelspec": {
   "display_name": "Python 3 (ipykernel)",
   "language": "python",
   "name": "python3"
  },
  "language_info": {
   "codemirror_mode": {
    "name": "ipython",
    "version": 3
   },
   "file_extension": ".py",
   "mimetype": "text/x-python",
   "name": "python",
   "nbconvert_exporter": "python",
   "pygments_lexer": "ipython3",
   "version": "3.9.13"
  }
 },
 "nbformat": 4,
 "nbformat_minor": 1
}
